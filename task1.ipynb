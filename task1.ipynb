{
 "cells": [
  {
   "cell_type": "code",
   "execution_count": 1,
   "id": "fda35baa",
   "metadata": {},
   "outputs": [
    {
     "name": "stdout",
     "output_type": "stream",
     "text": [
      "Phone: 7897897890\n",
      "Email: vikassairam01@gmail.com\n"
     ]
    }
   ],
   "source": [
    "contacts = {}\n",
    "contacts[\"vivek\"] = {'phone':'7897897890','email':'vikassairam01@gmail.com'}\n",
    "contacts[\"keerthi\"] = {'phone':'7330800407','email':'keerthireddy99@gmail.com'}\n",
    "contacts[\"malavika\"] = {'phone':'7791871584','email':'malavika123@gmail.com'}\n",
    "name = input(\"enter name:\")\n",
    "if name in contacts:\n",
    "    print(\"Phone:\", contacts[name]['phone'])\n",
    "    print(\"Email:\", contacts[name]['email'])\n",
    "else:\n",
    "    print(name,\"not found in contacts.\")"
   ]
  },
  {
   "cell_type": "code",
   "execution_count": 2,
   "id": "9d78b691",
   "metadata": {},
   "outputs": [
    {
     "data": {
      "text/plain": [
       "['keerthireddy99@gmail.com',\n",
       " 'chukkagani11@gmail.com',\n",
       " 'malavika123@gmail.com',\n",
       " 'vikassairam01@gmail.com']"
      ]
     },
     "execution_count": 2,
     "metadata": {},
     "output_type": "execute_result"
    }
   ],
   "source": [
    "emails = [\"malavika123@gmail.com\",\n",
    "          \"vikassairam01@gmail.com\",\n",
    "          \"chukkagani11@gmail.com\",\n",
    "          \"keerthireddy99@gmail.com\",\n",
    "          \"malavika123@gmail.com\",\n",
    "          \"chukkagani11@gmail.com\"\n",
    "]\n",
    "unique = list(set(emails))\n",
    "unique"
   ]
  },
  {
   "cell_type": "code",
   "execution_count": 4,
   "id": "0e54c175",
   "metadata": {},
   "outputs": [
    {
     "name": "stdout",
     "output_type": "stream",
     "text": [
      "[{'time': 9, 'work': 'class start'}, {'time': 3, 'work': 'practice time'}, {'time': 12, 'work': 'Take a break'}]\n",
      "removed task {'time': 3, 'work': 'practice time'}\n",
      "[{'time': 9, 'work': 'class start'}, {'time': 12, 'work': 'Take a break'}]\n"
     ]
    }
   ],
   "source": [
    "task =[]\n",
    "\n",
    "def addTask(task_):\n",
    "    task.append(task_)\n",
    "    \n",
    "def removeTask(ind):\n",
    "    task_poped = task.pop(ind)\n",
    "    return task_poped\n",
    "\n",
    "# to add task\n",
    "addTask({\"time\":9, \"work\": \"class start\"})\n",
    "addTask({\"time\":3, \"work\": \"practice time\"})\n",
    "addTask({\"time\":12, \"work\": \"Take a break\"})\n",
    "print(task)\n",
    "# to remove a task\n",
    "print(f\"removed task {removeTask(1)}\")\n",
    "\n",
    "print(task)"
   ]
  }
 ],
 "metadata": {
  "kernelspec": {
   "display_name": "Python 3",
   "language": "python",
   "name": "python3"
  },
  "language_info": {
   "codemirror_mode": {
    "name": "ipython",
    "version": 3
   },
   "file_extension": ".py",
   "mimetype": "text/x-python",
   "name": "python",
   "nbconvert_exporter": "python",
   "pygments_lexer": "ipython3",
   "version": "3.10.11"
  }
 },
 "nbformat": 4,
 "nbformat_minor": 5
}
